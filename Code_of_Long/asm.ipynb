{
 "cells": [
  {
   "cell_type": "code",
   "execution_count": 1,
   "metadata": {},
   "outputs": [],
   "source": [
    "from googletrans import Translator, constants\n",
    "from pprint import pprint\n",
    "translator = Translator()"
   ]
  },
  {
   "cell_type": "code",
   "execution_count": 2,
   "metadata": {},
   "outputs": [],
   "source": [
    "def Lower_and_Translate(string):\n",
    "    new_list= string.split()\n",
    "    for i in range(len(new_list)):\n",
    "        new_list[i] = new_list[i][0] + new_list[i][1:].lower() \n",
    "    lower_string = ' '.join(new_list)\n",
    "    return translator.translate(' '.join(new_list)).text\n"
   ]
  },
  {
   "cell_type": "code",
   "execution_count": 3,
   "metadata": {},
   "outputs": [],
   "source": [
    "def Delete_percent(string):\n",
    "    new_string = string\n",
    "    if new_string == '%0':\n",
    "        new_string = '0'\n",
    "    else: \n",
    "        new_string =''.join(new_string).split()[1] \n",
    "    return new_string  "
   ]
  },
  {
   "cell_type": "code",
   "execution_count": 4,
   "metadata": {},
   "outputs": [
    {
     "name": "stdout",
     "output_type": "stream",
     "text": [
      "20\n"
     ]
    }
   ],
   "source": [
    "print(Delete_percent('% 20'))"
   ]
  },
  {
   "cell_type": "code",
   "execution_count": 8,
   "metadata": {},
   "outputs": [],
   "source": [
    "import csv\n",
    "fr = open('book.csv', 'r', encoding='utf-8')\n",
    "reader = csv.reader(fr)\n",
    "header = next(reader) #read header\n",
    "\n",
    "fw = open('test1.csv', 'w', encoding='utf-8')\n",
    "writer = csv.writer(fw)\n",
    "writer.writerow(header) #write header\n",
    "next(reader)\n",
    "clean_data = []\n",
    "for row in reader:\n",
    "    row[0] = Lower_and_Translate(row[0])\n",
    "    row[2] = Lower_and_Translate(row[2])\n",
    "    row[4] = 'English'\n",
    "    row[5] = Delete_percent(row[5])\n",
    "    clean_data.append(row)\n",
    "    writer.writerow(row)\n",
    "\n",
    "print('Clean data has been saved')\n",
    "fr.close()\n",
    "fw.close()\n"
   ]
  }
 ],
 "metadata": {
  "kernelspec": {
   "display_name": "Python 3",
   "language": "python",
   "name": "python3"
  },
  "language_info": {
   "codemirror_mode": {
    "name": "ipython",
    "version": 3
   },
   "file_extension": ".py",
   "mimetype": "text/x-python",
   "name": "python",
   "nbconvert_exporter": "python",
   "pygments_lexer": "ipython3",
   "version": "3.10.8"
  },
  "orig_nbformat": 4,
  "vscode": {
   "interpreter": {
    "hash": "26de051ba29f2982a8de78e945f0abaf191376122a1563185a90213a26c5da77"
   }
  }
 },
 "nbformat": 4,
 "nbformat_minor": 2
}
